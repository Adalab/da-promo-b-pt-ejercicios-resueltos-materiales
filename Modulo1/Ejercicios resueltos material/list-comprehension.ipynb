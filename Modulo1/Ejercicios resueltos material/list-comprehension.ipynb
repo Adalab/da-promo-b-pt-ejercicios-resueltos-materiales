{
 "cells": [
  {
   "cell_type": "markdown",
   "metadata": {},
   "source": [
    "Solo las podremos usar: \n",
    "\n",
    "- for loop sencillo\n",
    "\n",
    "- for loop dentro de un for loop\n",
    "\n",
    "- for loop con un if\n",
    "\n",
    "- for loop con un if y un elif"
   ]
  },
  {
   "cell_type": "code",
   "execution_count": 1,
   "metadata": {},
   "outputs": [
    {
     "name": "stdout",
     "output_type": "stream",
     "text": [
      "El resultado con un for loop normal es:\n",
      "['marga', 'elena', 'reyes', 'belen', 'tamara']\n",
      "El resultado con una list comprehension es:\n",
      "['marga', 'elena', 'reyes', 'belen', 'tamara']\n"
     ]
    }
   ],
   "source": [
    "# dado una lista de alumnas, crea otra lista con todos los nombres en minúscula\n",
    "\n",
    "# Lista original con nombres de alumnas\n",
    "lista_alumnas = [\"Marga\", \"Elena\", \"Reyes\", \"Belen\", \"Tamara\"]\n",
    "\n",
    "# CON UN FOR LOOP NORMAL\n",
    "\n",
    "# Inicializa una lista vacía para almacenar los nombres en minúscula\n",
    "lista_alumnas_minus = []\n",
    "\n",
    "# Itera a través de la lista original con un bucle for\n",
    "for alumna in lista_alumnas:\n",
    "    # Convierte el nombre a minúsculas y lo agrega a la nueva lista\n",
    "    lista_alumnas_minus.append(alumna.lower())\n",
    "\n",
    "# Muestra el resultado utilizando un bucle for normal\n",
    "print(\"El resultado con un for loop normal es:\")\n",
    "print(lista_alumnas_minus)\n",
    "\n",
    "# CON UNA LIST COMPREHENSION\n",
    "\n",
    "# Utiliza una list comprehension para crear una nueva lista con nombres en minúscula\n",
    "lista_alumnas_minus2 = [alumna.lower() for alumna in lista_alumnas]\n",
    "\n",
    "# Muestra el resultado utilizando una list comprehension\n",
    "print(\"El resultado con una list comprehension es:\")\n",
    "print(lista_alumnas_minus2)\n"
   ]
  },
  {
   "cell_type": "code",
   "execution_count": 2,
   "metadata": {},
   "outputs": [
    {
     "name": "stdout",
     "output_type": "stream",
     "text": [
      "El resultado con un for loop normal es:\n",
      "['Elena', 'Belen']\n",
      "El resultado con una list comprehension es:\n",
      "['Elena', 'Belen']\n"
     ]
    }
   ],
   "source": [
    "# Importa el módulo 're' (expresiones regulares) para buscar patrones de texto\n",
    "import re\n",
    "\n",
    "# Lista original con nombres de alumnas\n",
    "lista_alumnas = [\"Marga\", \"Elena\", \"Reyes\", \"Belen\", \"Tamara\"]\n",
    "\n",
    "# CON UN FOR LOOP NORMAL\n",
    "\n",
    "# Inicializa una lista vacía para almacenar los nombres que cumplen el criterio\n",
    "lista_alumnas_ag = []\n",
    "\n",
    "# Itera a través de la lista original con un bucle for\n",
    "for alumna in lista_alumnas:\n",
    "    # Utiliza una expresión regular para buscar nombres que comienzan con letras A-G (mayúsculas o minúsculas)\n",
    "    resultado = re.findall(\"^[A-Ga-g]\\w+\", alumna)\n",
    "    \n",
    "    # Verifica si se encontró al menos una coincidencia\n",
    "    if len(resultado) >= 1:\n",
    "        # Si se encuentra una coincidencia, agrega el nombre a la nueva lista\n",
    "        lista_alumnas_ag.append(alumna)\n",
    "\n",
    "# Muestra el resultado utilizando un bucle for normal\n",
    "print(\"El resultado con un for loop normal es:\")\n",
    "print(lista_alumnas_ag)\n",
    "\n",
    "# CON UNA LIST COMPREHENSION\n",
    "\n",
    "# Utiliza una list comprehension para crear una nueva lista con nombres que cumplen el criterio\n",
    "lista_alumnas_ag2 = [alumna for alumna in lista_alumnas if len(re.findall(\"^[A-Ga-g]\\w+\", alumna))]\n",
    "\n",
    "# Muestra el resultado utilizando una list comprehension\n",
    "print(\"El resultado con una list comprehension es:\")\n",
    "print(lista_alumnas_ag2)\n"
   ]
  },
  {
   "cell_type": "code",
   "execution_count": 3,
   "metadata": {},
   "outputs": [
    {
     "name": "stdout",
     "output_type": "stream",
     "text": [
      "El resultado con un for loop normal es:\n",
      "['marga', 'ELENA', 'reyes', 'BELEN', 'tamara']\n",
      "El resultado con una list comprehension es:\n",
      "['marga', 'ELENA', 'reyes', 'BELEN', 'tamara']\n"
     ]
    }
   ],
   "source": [
    "# dado una lista de alumnas, crea otra lista donde las alumnas cuyo nombre empieza por letras comprendidas entre la A-G esten en mayuscula y de la H en adelante en minuscula\n",
    "\n",
    "\n",
    "# Lista original con nombres de alumnas\n",
    "lista_alumnas = [\"Marga\", \"Elena\", \"Reyes\", \"Belen\", \"Tamara\"]\n",
    "\n",
    "# CON UN FOR LOOP NORMAL\n",
    "\n",
    "# Inicializa una lista vacía para almacenar los nombres en mayúsculas o minúsculas\n",
    "lista_alumnas_ag_mm = []\n",
    "\n",
    "# Itera a través de la lista original con un bucle for\n",
    "for alumna in lista_alumnas:\n",
    "    # Utiliza una expresión regular para buscar nombres que comienzan con letras A-G (mayúsculas o minúsculas)\n",
    "    resultado = re.findall(\"^[A-Ga-g]\\w+\", alumna)\n",
    "    \n",
    "    # Verifica si se encontró al menos una coincidencia\n",
    "    if len(resultado) >= 1:\n",
    "        # Si se encuentra una coincidencia, agrega el nombre en mayúsculas a la nueva lista\n",
    "        lista_alumnas_ag_mm.append(alumna.upper())\n",
    "    else:\n",
    "        # Si no se encuentra coincidencia, agrega el nombre en minúsculas a la nueva lista\n",
    "        lista_alumnas_ag_mm.append(alumna.lower())\n",
    "\n",
    "# Muestra el resultado utilizando un bucle for normal\n",
    "print(\"El resultado con un for loop normal es:\")\n",
    "print(lista_alumnas_ag_mm)\n",
    "\n",
    "# CON UNA LIST COMPREHENSION\n",
    "\n",
    "# Utiliza una list comprehension para crear una nueva lista con nombres en mayúsculas o minúsculas\n",
    "lista_alumnas_ag2_mm = [alumna.upper() if len(re.findall(\"^[A-Ga-g]\\w+\", alumna)) else alumna.lower() for alumna in lista_alumnas]\n",
    "\n",
    "# Muestra el resultado utilizando una list comprehension\n",
    "print(\"El resultado con una list comprehension es:\")\n",
    "print(lista_alumnas_ag2_mm)\n"
   ]
  },
  {
   "cell_type": "code",
   "execution_count": null,
   "metadata": {},
   "outputs": [],
   "source": []
  }
 ],
 "metadata": {
  "kernelspec": {
   "display_name": "promof",
   "language": "python",
   "name": "python3"
  },
  "language_info": {
   "codemirror_mode": {
    "name": "ipython",
    "version": 3
   },
   "file_extension": ".py",
   "mimetype": "text/x-python",
   "name": "python",
   "nbconvert_exporter": "python",
   "pygments_lexer": "ipython3",
   "version": "3.11.4"
  }
 },
 "nbformat": 4,
 "nbformat_minor": 2
}
